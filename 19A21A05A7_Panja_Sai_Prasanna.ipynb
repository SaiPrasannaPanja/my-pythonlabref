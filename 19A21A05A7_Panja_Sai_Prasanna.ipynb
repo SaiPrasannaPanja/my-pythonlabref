{
  "nbformat": 4,
  "nbformat_minor": 0,
  "metadata": {
    "colab": {
      "name": "19A21A05A7-Panja Sai Prasanna",
      "provenance": [],
      "collapsed_sections": [],
      "authorship_tag": "ABX9TyO99fK9O1olxsxterQza9ne",
      "include_colab_link": true
    },
    "kernelspec": {
      "name": "python3",
      "display_name": "Python 3"
    },
    "language_info": {
      "name": "python"
    }
  },
  "cells": [
    {
      "cell_type": "markdown",
      "metadata": {
        "id": "view-in-github",
        "colab_type": "text"
      },
      "source": [
        "<a href=\"https://colab.research.google.com/github/SaiPrasannaPanja/my-pythonlabref/blob/main/19A21A05A7_Panja_Sai_Prasanna.ipynb\" target=\"_parent\"><img src=\"https://colab.research.google.com/assets/colab-badge.svg\" alt=\"Open In Colab\"/></a>"
      ]
    },
    {
      "cell_type": "markdown",
      "metadata": {
        "id": "2lcdf3atjYem"
      },
      "source": [
        "Name:Panja.Sai Prasanna\n",
        "Regno:19A21A05A7\n",
        "Branch:CSE-B\n",
        "Subject: python"
      ]
    },
    {
      "cell_type": "markdown",
      "metadata": {
        "id": "C_yqT8gCJp2r"
      },
      "source": [
        "EXCERSICE-1\n",
        "\n",
        " A.WRITE PROGRAM IN INTERACTIVE,INTERPRETER,PYHON SCRIPT MODE.\n",
        " \n",
        " B.WRITE A PROGRAM TO PURPOSEFULLY WRITE INDENTATION ERROR AND CORRECT IT."
      ]
    },
    {
      "cell_type": "code",
      "metadata": {
        "colab": {
          "base_uri": "https://localhost:8080/"
        },
        "id": "7f_jOI66Kb09",
        "outputId": "b1fb6a17-4457-4914-c1c2-912e9d761ed0"
      },
      "source": [
        "#1A.\n",
        "a=28\n",
        "b=19\n",
        "a,b=b,a\n",
        "print(a,b)"
      ],
      "execution_count": null,
      "outputs": [
        {
          "output_type": "stream",
          "text": [
            "19 28\n"
          ],
          "name": "stdout"
        }
      ]
    },
    {
      "cell_type": "code",
      "metadata": {
        "colab": {
          "base_uri": "https://localhost:8080/",
          "height": 129
        },
        "id": "LfIFwzA-LTFX",
        "outputId": "9ebbeaeb-1908-4127-c87d-d8dc71d542f5"
      },
      "source": [
        "#1B.WITH INDENTATION ERROR\n",
        "x=23\n",
        "if x%2 == 0:\n",
        "print(x,\" is even\")\n",
        "else:\n",
        "  print(x,\" is odd\")"
      ],
      "execution_count": null,
      "outputs": [
        {
          "output_type": "error",
          "ename": "IndentationError",
          "evalue": "ignored",
          "traceback": [
            "\u001b[0;36m  File \u001b[0;32m\"<ipython-input-7-1fb8aca06673>\"\u001b[0;36m, line \u001b[0;32m4\u001b[0m\n\u001b[0;31m    print(x,\" is even\")\u001b[0m\n\u001b[0m        ^\u001b[0m\n\u001b[0;31mIndentationError\u001b[0m\u001b[0;31m:\u001b[0m expected an indented block\n"
          ]
        }
      ]
    },
    {
      "cell_type": "code",
      "metadata": {
        "colab": {
          "base_uri": "https://localhost:8080/"
        },
        "id": "-3bQp-ezNbMv",
        "outputId": "621d2e9e-1c51-4c63-c3b8-488320e2f449"
      },
      "source": [
        "#1B.ABOVE PROGRAM WITHOUT INDENTATION ERROR\n",
        "x=23\n",
        "if x%2 == 0:\n",
        "  print(x,\" is divisible by 2\")\n",
        "else:\n",
        "  print(x,\" is not divisible by 2\")"
      ],
      "execution_count": null,
      "outputs": [
        {
          "output_type": "stream",
          "text": [
            "23  is not divisible by 2\n"
          ],
          "name": "stdout"
        }
      ]
    },
    {
      "cell_type": "markdown",
      "metadata": {
        "id": "5gNuDsRaKRr2"
      },
      "source": [
        ""
      ]
    },
    {
      "cell_type": "markdown",
      "metadata": {
        "id": "_t_wBHMuOQSc"
      },
      "source": [
        "EXERCISE-2\n",
        "\n",
        "A.COMPUTE DISTANCE BETWEEN TWO POINTS\n",
        "\n",
        "B.TAKE TWO NUMBERS ON COMMAND LINE ARGUMENTS AND PRINT THE SUM."
      ]
    },
    {
      "cell_type": "code",
      "metadata": {
        "colab": {
          "base_uri": "https://localhost:8080/"
        },
        "id": "dyDnCFmvOlnj",
        "outputId": "1f14eacd-a03a-4d3f-dc5d-20eef3b8299b"
      },
      "source": [
        "#2A.\n",
        "import math\n",
        "x1=int(input(\"enter  x1 value:\"))\n",
        "x2=int(input(\"enter  x2 value:\"))\n",
        "y1=int(input(\"enter  y1 value:\"))\n",
        "y2=int(input(\"enter  y2 value:\"))\n",
        "z=math.sqrt((x2-x1)**2+(y2-y1)**2)\n",
        "print(\"the distance between two points is :\",z)"
      ],
      "execution_count": null,
      "outputs": [
        {
          "output_type": "stream",
          "text": [
            "enter  x1 value:12\n",
            "enter  x2 value:16\n",
            "enter  y1 value:19\n",
            "enter  y2 value:16\n",
            "the distance between two points is : 5.0\n"
          ],
          "name": "stdout"
        }
      ]
    },
    {
      "cell_type": "code",
      "metadata": {
        "id": "EwmJ-rbUSeMF"
      },
      "source": [
        "#2B.\n",
        "import sys\n",
        "a=int(sys.argv[1])\n",
        "b=int(sys.argv[2])\n",
        "\n",
        "summ=a+b\n",
        "\n",
        "print(\"summ of two number is:\",summ)"
      ],
      "execution_count": null,
      "outputs": []
    },
    {
      "cell_type": "markdown",
      "metadata": {
        "id": "xUfTBxIthAkY"
      },
      "source": [
        "EXCERSCISE-3\n",
        "\n",
        "A) WRITE A PROGRAM FOR CHECKING WHETHER THE GIVEN NUMBER IS AN EVEN NUMBER OR NOT.\n",
        "\n",
        "B) USING A FOR LOOP, WRITE A PROGRAM THAT PRINTS OUT THE DECIMAL EQUIVALENTS OF 1/2, 1/3, 1/4, . . .1/10\n",
        "\n",
        "C) WRITE A PROGRAM USING A FOR LOOP THAT LOOPS OVER A SEQUENCE. WHAT IS SEQUENCE?\n",
        "\n",
        "D) WRITE A PROGRAM USING A WHILE LOOP THAT ASKS THE USER FOR A NUMBER, AND PRINTS A COUNTDOWNFROM THAT NUMBER TO ZERO\n"
      ]
    },
    {
      "cell_type": "code",
      "metadata": {
        "colab": {
          "base_uri": "https://localhost:8080/"
        },
        "id": "F3rZZXoCiUP3",
        "outputId": "3d54c2a8-f697-4e46-d130-f974119f8ad8"
      },
      "source": [
        "#3A.\n",
        "n=int(input(\"enter a number:\"))\n",
        "if (n%2)==0:\n",
        "      print(\"given number is even\")\n",
        "else:\n",
        "      print(\"given number is odd\")"
      ],
      "execution_count": null,
      "outputs": [
        {
          "output_type": "stream",
          "text": [
            "enter a number:10682\n",
            "given number is even\n"
          ],
          "name": "stdout"
        }
      ]
    },
    {
      "cell_type": "code",
      "metadata": {
        "colab": {
          "base_uri": "https://localhost:8080/"
        },
        "id": "RK8nysHWi5jR",
        "outputId": "0350ec4b-b4bb-4d14-b7ae-a4cd6c789427"
      },
      "source": [
        "#3B.\n",
        "n=int(input(\"enter a number:\"))\n",
        "for i in range(2,n):\n",
        "    de=1/i;\n",
        "    print(\"1/\",i,\"=\",de)"
      ],
      "execution_count": null,
      "outputs": [
        {
          "output_type": "stream",
          "text": [
            "enter a number:11\n",
            "1/ 2 = 0.5\n",
            "1/ 3 = 0.3333333333333333\n",
            "1/ 4 = 0.25\n",
            "1/ 5 = 0.2\n",
            "1/ 6 = 0.16666666666666666\n",
            "1/ 7 = 0.14285714285714285\n",
            "1/ 8 = 0.125\n",
            "1/ 9 = 0.1111111111111111\n",
            "1/ 10 = 0.1\n"
          ],
          "name": "stdout"
        }
      ]
    },
    {
      "cell_type": "code",
      "metadata": {
        "colab": {
          "base_uri": "https://localhost:8080/"
        },
        "id": "0jxPJr9nkUDM",
        "outputId": "4ade8457-131d-4cfd-b00f-05b7dd13e944"
      },
      "source": [
        "#3C.\n",
        "#program using for that loops over a sequence\n",
        "print(\"loop sequence\")\n",
        "    \n",
        "arr=[34.5,55,'GEMS',True,'A']\n",
        "for x in arr:\n",
        "      print(x)"
      ],
      "execution_count": null,
      "outputs": [
        {
          "output_type": "stream",
          "text": [
            "loop sequence\n",
            "34.5\n",
            "55\n",
            "GEMS\n",
            "True\n",
            "A\n"
          ],
          "name": "stdout"
        }
      ]
    },
    {
      "cell_type": "code",
      "metadata": {
        "colab": {
          "base_uri": "https://localhost:8080/"
        },
        "id": "xdYDSF9blQaX",
        "outputId": "b1d5eda5-f38b-4a50-bd14-ce8a2a6c1417"
      },
      "source": [
        "#3D.\n",
        "#countdown seq\n",
        "n=int(input(\"enter the numbr:\"))\n",
        "while n>=0:\n",
        "      print(n)\n",
        "      n=n-1"
      ],
      "execution_count": null,
      "outputs": [
        {
          "output_type": "stream",
          "text": [
            "enter the numbr:10\n",
            "10\n",
            "9\n",
            "8\n",
            "7\n",
            "6\n",
            "5\n",
            "4\n",
            "3\n",
            "2\n",
            "1\n",
            "0\n"
          ],
          "name": "stdout"
        }
      ]
    },
    {
      "cell_type": "markdown",
      "metadata": {
        "id": "ilpsqjxEzRMi"
      },
      "source": [
        "EXCERCISE-4 \n",
        "\n",
        "A) FIND THE SUM OF ALL THE PRIMES BELOW TWO MILLION .\n",
        "\n",
        "B)EACH NEW TERM IN THE FIBONACCI SEQUENCE IS GENERATED BY ADDING THE PREVIOUS TWO TERMS. BYSTARTING WITH 1 AND 2, THE FIRST 10 TERMS WILL BE: 1, 2, 3, 5, 8, 13, 21, 34, 55, 89, ...\n",
        " BY CONSIDERING THE TERMS IN THE FIBONACCI SEQUENCE WHOSE VALUES DO NOT EXCEED FOUR MILLION,FIND THE SUM OF THE EVEN-VALUED TERMS.\n",
        "\n"
      ]
    },
    {
      "cell_type": "code",
      "metadata": {
        "colab": {
          "base_uri": "https://localhost:8080/"
        },
        "id": "S4MyGw-Kzvxn",
        "outputId": "25549f5b-8529-4064-e0b6-83a1c03d5dfc"
      },
      "source": [
        "#4A.\n",
        "n=int(input(\"enter a number:\"))\n",
        " \n",
        "st=\"\"\n",
        "summ=0\n",
        " \n",
        "for i in range(2,n):\n",
        " state=True\n",
        " for j in range(2,i):\n",
        "  if(i%j==0):\n",
        "        state=False\n",
        "        break;\n",
        " if state==True:\n",
        "            st+=\" \"+str(i)\n",
        "            summ+=i\n",
        " \n",
        "print(\"prime numbers: \")\n",
        "print(st)\n",
        "print(\"sum of all prime nums:\",summ)"
      ],
      "execution_count": null,
      "outputs": [
        {
          "output_type": "stream",
          "text": [
            "enter a number:100\n",
            "prime numbers: \n",
            " 2 3 5 7 11 13 17 19 23 29 31 37 41 43 47 53 59 61 67 71 73 79 83 89 97\n",
            "sum of all prime nums: 1060\n"
          ],
          "name": "stdout"
        }
      ]
    },
    {
      "cell_type": "code",
      "metadata": {
        "colab": {
          "base_uri": "https://localhost:8080/"
        },
        "id": "7dx99XKB4NZW",
        "outputId": "50e12db3-f014-4e5e-9bce-0740f8f94ff9"
      },
      "source": [
        "#4B.\n",
        "n=int(input(\"enter a num:\"))\n",
        "a=0\n",
        "b=1\n",
        "c=a+b\n",
        "sum=0\n",
        "\n",
        "print(\"even numbers in fibonnacci series is:\",end='')\n",
        "while c<=n:\n",
        "    if c%2==0:\n",
        "      print(c,end=' ')\n",
        "      sum+=c        \n",
        "    a=b\n",
        "    b=c \n",
        "    c=a+b\n",
        "print(\"\\nsum of fibonnacci series is:\",sum)"
      ],
      "execution_count": null,
      "outputs": [
        {
          "output_type": "stream",
          "text": [
            "enter a num:10\n",
            "even numbers in fibonnacci series is:2 8 \n",
            "sum of fibonnacci series is: 10\n"
          ],
          "name": "stdout"
        }
      ]
    },
    {
      "cell_type": "markdown",
      "metadata": {
        "id": "hYPZzmK395ms"
      },
      "source": [
        "EXCERCISE-5\n",
        "\n",
        "DS\n",
        "\n",
        "A) WRITE A PROGRAM TO COUNT THE NUMBERS OF CHARACTERS IN THE STRING AND STORE THEM IN A DICTIONARY DATA STRUCTURE\n",
        "\n",
        "B) WRITE A PROGRAM TO USE SPLIT AND JOIN METHODS IN THE STRING AND TRACE A BIRTHDAY WITH A DICTIONARY DATA STRUCTURE.\n"
      ]
    },
    {
      "cell_type": "code",
      "metadata": {
        "colab": {
          "base_uri": "https://localhost:8080/"
        },
        "id": "dFTl8IzY-FsW",
        "outputId": "fc4d5608-981d-497a-8f89-f9c83d861ebf"
      },
      "source": [
        "#5A.\n",
        "name=input(\"enter a name:\")\n",
        "dic={}\n",
        "for ch in name:\n",
        "    keys=dic.keys()\n",
        " \n",
        "    if(ch in keys):\n",
        "        dic[ch]=dic[ch]+1\n",
        "    else:\n",
        "        dic[ch]=1\n",
        " \n",
        "print(\"dictionarry is:\",dic)"
      ],
      "execution_count": null,
      "outputs": [
        {
          "output_type": "stream",
          "text": [
            "enter a name:saiprasanna\n",
            "dictionarry is: {'s': 2, 'a': 4, 'i': 1, 'p': 1, 'r': 1, 'n': 2}\n"
          ],
          "name": "stdout"
        }
      ]
    },
    {
      "cell_type": "code",
      "metadata": {
        "colab": {
          "base_uri": "https://localhost:8080/"
        },
        "id": "SQGRiksP-27s",
        "outputId": "80288ff9-82a5-473d-effe-211a8984839f"
      },
      "source": [
        "#5B.\n",
        "dob={\"sam\":\"19-05-2008\",\"sandy\":\"14-04-2002\"}\n",
        "name=input(\"enter which person dob u want:\")\n",
        "l=name.split()\n",
        "birth=\"\"\n",
        "for i in l:\n",
        "    if i in dob.keys():\n",
        "        pers=i\n",
        " \n",
        "print(\"\".join([pers,\" birthday is:\",dob[pers]]))"
      ],
      "execution_count": null,
      "outputs": [
        {
          "output_type": "stream",
          "text": [
            "enter which person dob u want:sandy\n",
            "sandy birthday is:14-04-2002\n"
          ],
          "name": "stdout"
        }
      ]
    },
    {
      "cell_type": "markdown",
      "metadata": {
        "id": "UrBb6v2c_ZPy"
      },
      "source": [
        "EXERCISE-6 \n",
        "\n",
        "DS - CONTINUED\n",
        "\n",
        "A) WRITE A PROGRAM COMBINELISTS THAT COMBINES THESE LISTS INTO A DICTIONARY.\n",
        "\n",
        "B) WRITE A PROGRAM TO COUNT FREQUENCY OF CHARACTERS IN A GIVEN FILE. CAN YOU USE CHARACTER FREQUENCY TO TELL WHETHER THE GIVEN FILE IS A PYTHON PROGRAM FILE, C PROGRAM FILE OR A TEXT FILE?\n"
      ]
    },
    {
      "cell_type": "code",
      "metadata": {
        "colab": {
          "base_uri": "https://localhost:8080/"
        },
        "id": "qZdr1kl1_p9h",
        "outputId": "427213f7-7d55-459b-fca5-1788561b8e01"
      },
      "source": [
        "#6A.\n",
        "sub=[\"daa\",\"os\",\"dbms\",\"p&s\",\"ppl\",\"se\"]\n",
        "marks=[85,97,65,65,83,56]\n",
        "print(sub)\n",
        "print(marks)\n",
        "dic=dict(zip(sub,marks))\n",
        "print(dic)"
      ],
      "execution_count": null,
      "outputs": [
        {
          "output_type": "stream",
          "text": [
            "['daa', 'os', 'dbms', 'p&s', 'ppl', 'se']\n",
            "[85, 97, 65, 65, 83, 56]\n",
            "{'daa': 85, 'os': 97, 'dbms': 65, 'p&s': 65, 'ppl': 83, 'se': 56}\n"
          ],
          "name": "stdout"
        }
      ]
    },
    {
      "cell_type": "code",
      "metadata": {
        "id": "1QOuslD4AILw"
      },
      "source": [
        "#6B.\n",
        "filetypes=['.py','.c','.txt']\n",
        "fn=input(\"enter a file name:\")\n",
        "f=open(fn,\"r\")\n",
        "count=dict()\n",
        "for  ft in filetypes:\n",
        "     if(ft in  fn):\n",
        "           if(ft==\".py\"):\n",
        "             print(\"python file\")\n",
        "           elif(ft==\".c\"):\n",
        "             print(\"cfile\")\n",
        "           elif(ft==\".txt\"):\n",
        "             print(\"text file\")\n",
        " \n",
        " \n",
        "for line in f:\n",
        "     for ch in line:\n",
        "          if ch in count:\n",
        "               count[ch]=count[ch]+1\n",
        " \n",
        "          else:\n",
        "              count[ch]=1\n",
        " \n",
        " \n",
        "print(count)\n",
        "f.close()"
      ],
      "execution_count": null,
      "outputs": []
    },
    {
      "cell_type": "markdown",
      "metadata": {
        "id": "wnFM6y5ODRlk"
      },
      "source": [
        "EXCERCISE-7\n",
        "\n",
        "FILES\n",
        "\n",
        "A) WRITE A PROGRAM TO PRINT EACH LINE OF A FILE IN REVERSE ORDER.\n",
        "\n",
        "B) WRITE A PROGRAM TO COMPUTE THE NUMBER OF CHARACTERS, WORDS AND LINES IN A FILE.\n"
      ]
    },
    {
      "cell_type": "code",
      "metadata": {
        "id": "gTObBdXgDVhg"
      },
      "source": [
        "#7A.\n",
        "obj=open(\"sam.txt\",\"r\")\n",
        "if obj:\n",
        "    st=obj.read()\n",
        "    print(\"file content is:\")\n",
        "obj.close()\n",
        "print()\n",
        "lines=st.split('\\n')\n",
        "for ln in lines:\n",
        "    i=len(ln)-1\n",
        "    while(i>=0):\n",
        "      print(ln[i],end='')\n",
        "      i=i-1\n",
        "    print()"
      ],
      "execution_count": null,
      "outputs": []
    },
    {
      "cell_type": "code",
      "metadata": {
        "id": "jMDkED0BDejE"
      },
      "source": [
        "#7B.\n",
        "obj=open(\"sam.txt\",\"r\")\n",
        "if obj:\n",
        "    st=obj.read()\n",
        "    print(\"file content is:\")\n",
        "obj.close()\n",
        "print()\n",
        "nc=nw=nl=0\n",
        "for ch in st:\n",
        "    if(ch):\n",
        "        nc=nc+1\n",
        "    if(ch==''):\n",
        "        nw=nw+1\n",
        "    if(ch=='\\n'):\n",
        "        nl=nl+1\n",
        " \n",
        "print(\"number of characters in a file:\",nc)\n",
        "print(\"number of words in file is:\",nw)\n",
        "print(\"number of lines ins file:\",nl)"
      ],
      "execution_count": null,
      "outputs": []
    },
    {
      "cell_type": "markdown",
      "metadata": {
        "id": "kjRKhrSVDwHy"
      },
      "source": [
        "EXCERCISE-8\n",
        "\n",
        "FUNCTIONS\n",
        "\n",
        "A) WRITE A FUNCTION BALL COLLIDE THAT TAKES TWO BALLS AS PARAMETERS AND COMPUTES IF THEY ARECOLLIDING. YOUR FUNCTION SHOULD RETURN A BOOLEAN REPRESENTING WHETHER OR NOT THE BALLS ARECOLLIDING. HINT: REPRESENT A BALL ON A PLANE AS A TUPLE OF (X, Y, R), R BEING THE RADIUS IF (DISTANCE BETWEEN TWO BALLS CENTERS) <= (SUM OF THEIR RADII) THEN (THEY ARE COLLIDING)\n",
        "\n",
        "B) FIND MEAN, MEDIAN, MODE FOR THE GIVEN SET OF NUMBERS IN A LIST\n"
      ]
    },
    {
      "cell_type": "code",
      "metadata": {
        "colab": {
          "base_uri": "https://localhost:8080/"
        },
        "id": "VRCaFgt-D9e4",
        "outputId": "15d4f3bd-1d71-4d8d-be62-68ba3677e9a4"
      },
      "source": [
        "#8A.\n",
        "import math\n",
        "def ballcollide(b1tup,b2tup):\n",
        "    x1=b1tup[0]\n",
        "    y1=b1tup[1]\n",
        "    x2=b2tup[0]\n",
        "    y2=b2tup[1]\n",
        "    r1=b1tup[2]\n",
        "    r2=b2tup[2]\n",
        " \n",
        " \n",
        "    d=math.sqrt((x2-x1)*2+(y2-y1)*2)\n",
        "    if(d<=r1+r2):\n",
        "      return True\n",
        "    else:\n",
        "        return False\n",
        " \n",
        " \n",
        "ball1=(1,2,3)\n",
        "ball2=(3,2,1)\n",
        "c=ballcollide(ball1,ball2)\n",
        "if(c):\n",
        "    print(\"balls are collided\")\n",
        "else:\n",
        "    print(\"ball are not collided\")"
      ],
      "execution_count": null,
      "outputs": [
        {
          "output_type": "stream",
          "text": [
            "balls are collided\n"
          ],
          "name": "stdout"
        }
      ]
    },
    {
      "cell_type": "code",
      "metadata": {
        "id": "5jlFqz8PEIGw"
      },
      "source": [
        "#8B.\n",
        "def list_mean(num_list):\n",
        "   return sum(num_list)/len(num_list)\n",
        "\n",
        "def list_median(num_list):\n",
        "    num_list.sort()\n",
        "    n=len(num_list)\n",
        "    mid=n//2\n",
        "    if(n%2==1):\n",
        "        return num_list[mid]\n",
        "    else:\n",
        "        return (num_list[mid-1]+num_list[mid])/2\n",
        "\n",
        "def list_mode(num_list):\n",
        "    num_list.sort()\n",
        "    temp=[]\n",
        "\n",
        "    i=0\n",
        "    while i<len(num_list):\n",
        "        temp.append(num_list.count(num_list[i]))\n",
        "        i+=1\n",
        "\n",
        "    dic=dict(zip(num_list,temp))\n",
        "    mode={k for (k,v) in dic.items() if v==max(temp)}\n",
        "    return mode\n",
        "\n",
        "lst=[1,1,2,2,2,3,4,5,3]\n",
        "\n",
        "print(\"mean of given list:\",list_mean(lst))\n",
        "print(\"median of given list:\",list_median(lst))\n",
        "print(\"mode of given list:\",list_mode(lst))"
      ],
      "execution_count": null,
      "outputs": []
    },
    {
      "cell_type": "markdown",
      "metadata": {
        "id": "cvdNlOq8LOqv"
      },
      "source": [
        "EXERCISE - 9\n",
        "\n",
        " FUNCTIONS - CONTINUED\n",
        "\n",
        "A) WRITE A FUNCTION NEARLY EQUAL TO TEST WHETHER TWO STRINGS ARE NEARLY EQUAL. TWO STRINGS A AND BARE NEARLY EQUAL WHEN A CAN BE GENERATED BY A SINGLE MUTATION ON B.\n",
        "\n",
        "B) WRITE A FUNCTION DUP TO FIND ALL DUPLICATES IN THE LIST.\n",
        "\n",
        "C) WRITE A FUNCTION UNIQUE TO FIND ALL THE UNIQUE ELEMENTS OF A LIST.\n"
      ]
    },
    {
      "cell_type": "code",
      "metadata": {
        "colab": {
          "base_uri": "https://localhost:8080/"
        },
        "id": "6opwHcmBLRsD",
        "outputId": "728b01c4-c89c-4c63-b5fa-ade931c902a2"
      },
      "source": [
        "#9A.\n",
        "def nearlyeq(str1,str2):\n",
        "    count=0\n",
        "    i=j=0\n",
        "    ss=0\n",
        "    while(i<len(str1)and j<len(str2)):\n",
        "        if(str1[i]!=str2[j]):\n",
        "            count+=1\n",
        "        if(len(str1)>len(str2)):\n",
        "            i+=1\n",
        " \n",
        "        elif(len(str1)==len(str2)):\n",
        "            pass\n",
        "        else:\n",
        "            i-=1     \n",
        "        if(count>1):\n",
        "             ss-=1\n",
        "             \n",
        "        i+=1\n",
        "        j+=1\n",
        "        if(count<2):\n",
        "             ss+=1\n",
        " \n",
        "    return ss\n",
        "s1=input(\"enter a string 1:\")\n",
        "s2=input(\"enter the string2:\")\n",
        "t=nearlyeq(s1,s2)\n",
        "if(t>1):\n",
        "    print(\"neraly equal0\")\n",
        "else:\n",
        "    print(\"not nearly equal\")"
      ],
      "execution_count": null,
      "outputs": [
        {
          "output_type": "stream",
          "text": [
            "enter a string 1:STRESS BUSTER\n",
            "enter the string2:STRES BUSTER\n",
            "not nearly equal\n"
          ],
          "name": "stdout"
        }
      ]
    },
    {
      "cell_type": "code",
      "metadata": {
        "colab": {
          "base_uri": "https://localhost:8080/"
        },
        "id": "zHvLmDWyLtkl",
        "outputId": "8b900915-f98f-4e57-b2f7-f3f667802cd2"
      },
      "source": [
        "#9B.\n",
        "def dup(list):\n",
        "  list1=[]\n",
        "  for i in list:\n",
        "    count=list.count(i)\n",
        "    if(count>1 and (i not in list1)):\n",
        "        list1.append(i)\n",
        "        \n",
        "  print(\"the dups in the list are:\",list1)        \n",
        "list2=[1,2,1,2]\n",
        " \n",
        "dup(list2)"
      ],
      "execution_count": null,
      "outputs": [
        {
          "output_type": "stream",
          "text": [
            "the dups in the list are: [1, 2]\n"
          ],
          "name": "stdout"
        }
      ]
    },
    {
      "cell_type": "code",
      "metadata": {
        "colab": {
          "base_uri": "https://localhost:8080/"
        },
        "id": "_BgVknkrL7Qj",
        "outputId": "d83e8249-8e9e-4e9b-9242-8a115276971b"
      },
      "source": [
        "#9C.\n",
        "def unique(list1):\n",
        "  list2={}\n",
        " \n",
        "  for i in list1:\n",
        "    c=list1.count(i)\n",
        "    if c==1:\n",
        "      list2[i]=c\n",
        "  print(\"the unique elements in the list are:\",list2)\n",
        " \n",
        "list=[1,2,3,45,45,6,88,88,9]\n",
        "unique(list)"
      ],
      "execution_count": null,
      "outputs": [
        {
          "output_type": "stream",
          "text": [
            "the unique elements in the list are: {1: 1, 2: 1, 3: 1, 6: 1, 9: 1}\n"
          ],
          "name": "stdout"
        }
      ]
    },
    {
      "cell_type": "markdown",
      "metadata": {
        "id": "taXgc9GTMFkR"
      },
      "source": [
        "EXERCISE - 10 \n",
        "\n",
        "FUNCTIONS - PROBLEM SOLVING\n",
        "\n",
        "A) WRITE A FUNCTION CUMULATIVE PRODUCT TO COMPUTE CUMULATIVE PRODUCT OF A LIST OF NUMBERS.\n",
        "\n",
        "B) WRITE A FUNCTION REVERSE TO REVERSE A LIST. WITHOUT USING THE REVERSE FUNCTION.\n",
        "\n",
        "C) WRITE FUNCTION TO COMPUTE GCD, LCM OF TWO NUMBERS. EACH FUNCTION SHOULDN’T EXCEED ONE LINE\n"
      ]
    },
    {
      "cell_type": "code",
      "metadata": {
        "colab": {
          "base_uri": "https://localhost:8080/"
        },
        "id": "2i2Al1j3MQD8",
        "outputId": "97928033-48de-4c9e-cf3f-c14243f49b6e"
      },
      "source": [
        "#10A:\n",
        "def cumulative_product(list1,n):\n",
        "    list2=[]\n",
        "    i=0\n",
        "    list2.append(list1[i])\n",
        "    for i in range(1,n):\n",
        "        v=list1[i]*list2[i-1]\n",
        "        list2.append(v)\n",
        "        \n",
        "    print(list2)\n",
        "list3=[]\n",
        "n=int(input(\"enter size :\"))\n",
        "print(\"enter the data:\")\n",
        "for i in range(0,n):\n",
        "    x=int(input())\n",
        "    list3.append(x)\n",
        "cumulative_product(list3,n)"
      ],
      "execution_count": null,
      "outputs": [
        {
          "output_type": "stream",
          "text": [
            "enter size :3\n",
            "enter the data:\n",
            "1\n",
            "2\n",
            "3\n",
            "[1, 2, 6]\n"
          ],
          "name": "stdout"
        }
      ]
    },
    {
      "cell_type": "code",
      "metadata": {
        "colab": {
          "base_uri": "https://localhost:8080/"
        },
        "id": "itj0DcN2VfQK",
        "outputId": "8629db01-3c48-4aa9-b7c4-0517cfe14c94"
      },
      "source": [
        "#10B.\n",
        "def reverse_list(numlist):\n",
        "    temp=list1[::-1]\n",
        "    numlist=temp\n",
        "    return temp\n",
        "list1=[1,2,3,4]\n",
        "print(\"giiven list is :\",list1)\n",
        "print(\"after reversing the list:\",reverse_list(list1))\n"
      ],
      "execution_count": null,
      "outputs": [
        {
          "output_type": "stream",
          "text": [
            "giiven list is : [1, 2, 3, 4]\n",
            "after reversing the list: [4, 3, 2, 1]\n"
          ],
          "name": "stdout"
        }
      ]
    },
    {
      "cell_type": "code",
      "metadata": {
        "colab": {
          "base_uri": "https://localhost:8080/"
        },
        "id": "xsHx6xw8WGOS",
        "outputId": "7ce47fe5-2445-4bd6-96e0-cf2ad4341391"
      },
      "source": [
        "#10C:\n",
        "gcd=lambda a,b: a if b==0 else gcd(a,a%b)\n",
        "lcm=lambda a,b: (a*b)/gcd(a,b)\n",
        " \n",
        "x=4\n",
        "y=24\n",
        "print(\"gcd=\",gcd(x,y))\n",
        "print(\"lcm=\",lcm(x,y))"
      ],
      "execution_count": null,
      "outputs": [
        {
          "output_type": "stream",
          "text": [
            "gcd= 4\n",
            "lcm= 24.0\n"
          ],
          "name": "stdout"
        }
      ]
    }
  ]
}